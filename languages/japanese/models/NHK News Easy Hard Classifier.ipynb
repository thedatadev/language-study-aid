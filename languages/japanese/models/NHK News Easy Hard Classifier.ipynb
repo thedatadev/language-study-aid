{
 "cells": [
  {
   "cell_type": "markdown",
   "metadata": {},
   "source": [
    "# NHK News Easy Hard Classifier\n",
    "\n",
    "## Description\n",
    "This model aims to classify a given input text in Japanese into one of two reading comprehension difficulty levels: easy or hard.\n",
    "\n",
    "## Dataset\n",
    "The dataset used is a wiki dump of the entire set of Japanese Wikipedia articles. The dataset was downloaded and pre-processed on my machine, but the resulting \n",
    "\n",
    "TODO:\n",
    "- describe the dataset used\n",
    "- describe the transformation pipeline\n",
    "- describe the training methodology\n",
    "- describe the deployment strategy\n",
    "- conclude with interesting observations\n",
    "- references"
   ]
  },
  {
   "cell_type": "markdown",
   "metadata": {},
   "source": [
    "# Step 1. Load the dataset and annotate the training data"
   ]
  },
  {
   "cell_type": "code",
   "execution_count": 138,
   "metadata": {},
   "outputs": [],
   "source": [
    "import pandas as pd\n",
    "\n",
    "# Load NHK dataset\n",
    "easy_news = pd.read_csv(\"../resources/nhk_news/easy_articles.csv\")\n",
    "hard_news = pd.read_csv(\"../resources/nhk_news/hard_articles.csv\")\n",
    "\n",
    "# Extract the article text\n",
    "easy_texts = easy_news['texts']\n",
    "hard_texts = hard_news['texts']\n",
    "easy_texts_size = len(easy_texts)\n",
    "hard_texts_size = len(hard_texts)\n",
    "\n",
    "# Label each as easy (0) or hard (1)\n",
    "EASY = 1\n",
    "HARD = -1\n",
    "easy_targets = pd.Series(easy_texts_size * [EASY])\n",
    "hard_targets = pd.Series(hard_texts_size * [HARD])\n",
    "\n",
    "# Merge the dataset\n",
    "# NOTE: ignore_index is used to allow index continuity \n",
    "X = pd.concat([easy_texts,   hard_texts],   ignore_index=True)\n",
    "y = pd.concat([easy_targets, hard_targets], ignore_index=True)"
   ]
  },
  {
   "cell_type": "markdown",
   "metadata": {},
   "source": [
    "# Step 2. Replace each word with its embedding"
   ]
  },
  {
   "cell_type": "code",
   "execution_count": 2,
   "metadata": {},
   "outputs": [
    {
     "name": "stdout",
     "output_type": "stream",
     "text": [
      "Before tokenization:\n",
      "0    国連のＦＡＯ＝国連食糧農業機関は、食べ物がないため栄養が足りなくて苦しんでいる人が世界に８億...\n",
      "1    日本の政府は、ユネスコ＝ＵＮＥＳＣＯの世界遺産に「長崎の教会群とキリスト教関連遺産」を推薦す...\n",
      "2    鯨をとることについて世界の国が話し合うＩＷＣの総会がスロベニアでありました。この会議でニュー...\n",
      "3    １８日、東京都大田区の駐車場で猫の首を絞めて強い力で地面に投げたなどの理由で、３３歳の会社員...\n",
      "4    １９日、アップルは新しいスマートフォン「ｉＰｈｏｎｅ６」を日本でも売り出しました。画面の大き...\n",
      "Name: texts, dtype: object\n",
      "\n",
      "After tokenization:\n",
      "0    [国連, の, ＦＡＯ, ＝, 国連, 食糧, 農業, 機関, は, 、, 食べ物, が, ...\n",
      "1    [日本, の, 政府, は, 、, ユネスコ, ＝, ＵＮＥＳＣＯ, の, 世界, 遺産, ...\n",
      "2    [鯨, を, とる, こと, について, 世界, の, 国, が, 話し合う, ＩＷＣ, の...\n",
      "3    [１, ８, 日, 、, 東京, 都, 大田, 区, の, 駐車, 場, で, 猫, の, ...\n",
      "4    [１, ９, 日, 、, アップル, は, 新しい, スマートフォン, 「, ｉＰｈｏｎｅ,...\n",
      "Name: texts, dtype: object\n"
     ]
    }
   ],
   "source": [
    "# Tokenize each sentence\n",
    "\n",
    "# I use the MeCab POS tagger for tokenization as Japanese words aren't delimited by space.\n",
    "#\n",
    "# For example, \"ロイヤルミルクティーはミルクティーよりもカロリーが高い\"\n",
    "#     Becomes:  ロイヤルミルクティー   は    ミルク    ティー    より    も     カロリー    が 高い\n",
    "#\n",
    "# This is based on MeCab's -Owakati dictionary, which is the same dictionary used during \n",
    "# the training of the pre-trained model\n",
    "\n",
    "import MeCab\n",
    "\n",
    "def tokenize(article):\n",
    "    return tagger.parse(article).split()\n",
    "\n",
    "tagger = MeCab.Tagger(\"-Owakati\")\n",
    "\n",
    "print(\"Before tokenization:\")\n",
    "print(X.head())\n",
    "X = X.apply(tokenize)\n",
    "print()\n",
    "print(\"After tokenization:\")\n",
    "print(X.head())\n",
    "\n"
   ]
  },
  {
   "cell_type": "code",
   "execution_count": 3,
   "metadata": {},
   "outputs": [
    {
     "name": "stdout",
     "output_type": "stream",
     "text": [
      "0    [[-0.5994279, 0.89275813, -1.3500179, 1.144231...\n",
      "1    [[-1.7453705, -0.45321932, -0.62361723, -2.899...\n",
      "2    [[0.10632134, -1.6554157, 1.1372911, -0.930083...\n",
      "3    [[-1.5607809, -4.779662, -1.433639, -1.4902706...\n",
      "4    [[-1.5607809, -4.779662, -1.433639, -1.4902706...\n",
      "Name: texts, dtype: object\n"
     ]
    }
   ],
   "source": [
    "# Get embedding for each word\n",
    "\n",
    "# We construct article embeddings based on the embeddings of each individual token\n",
    "# NOTE: A pre-trained model was used since I didn't have the resources to train a\n",
    "#       word2vec model on a 5GB dataset at the time.\n",
    "\n",
    "import gensim\n",
    "import numpy as np\n",
    "\n",
    "model_path = \"word2vec/pretrained/word2vec.model.bin\"\n",
    "\n",
    "# 100-dimension embeddings\n",
    "model = gensim.models.Word2Vec.load(model_path)\n",
    "    \n",
    "def substitute_for_embeddings(article):\n",
    "    article_embedding = []\n",
    "    for token in article:\n",
    "        # Filter out any characters which don't have an embedding in the model\n",
    "        if token in model.wv:\n",
    "            article_embedding.append(model.wv[token])\n",
    "    return np.array(article_embedding)\n",
    "\n",
    "X = X.apply(substitute_for_embeddings)\n",
    "\n",
    "print(X.head())\n",
    "\n",
    "\n"
   ]
  },
  {
   "cell_type": "markdown",
   "metadata": {},
   "source": [
    "# Step 3. Analyse dataset imbalance"
   ]
  },
  {
   "cell_type": "code",
   "execution_count": 4,
   "metadata": {},
   "outputs": [
    {
     "data": {
      "text/plain": [
       "<Figure size 640x480 with 1 Axes>"
      ]
     },
     "metadata": {},
     "output_type": "display_data"
    },
    {
     "data": {
      "text/plain": [
       "<Figure size 640x480 with 1 Axes>"
      ]
     },
     "metadata": {},
     "output_type": "display_data"
    },
    {
     "data": {
      "text/plain": [
       "<Figure size 640x480 with 1 Axes>"
      ]
     },
     "metadata": {},
     "output_type": "display_data"
    },
    {
     "data": {
      "text/plain": [
       "<Figure size 640x480 with 1 Axes>"
      ]
     },
     "metadata": {},
     "output_type": "display_data"
    }
   ],
   "source": [
    "import matplotlib.pyplot as plt\n",
    "\n",
    "### Finding out the range of article lengths\n",
    "### It turns out the min. length is 0, and the max. length is 2092\n",
    "article_lengths = [ len(article) for article in X ]\n",
    "# print(min(article_lengths))\n",
    "# print(max(article_lengths))\n",
    "\n",
    "### Here is a cursory glance at a histogram modelling the collection of article lengths\n",
    "n, bins, patches = plt.hist(article_lengths, bins=range(0, 2100, 50), range=(0, 2100))\n",
    "plt.xlabel('Article Lengths (0 to 2100)')\n",
    "plt.ylabel('Article Count')\n",
    "plt.title('Histogram of Article Lengths in the NHK Dataset')\n",
    "plt.show()\n",
    "\n",
    "### The first graph appears skewed to the right. Let's centre in on the left a bit more.\n",
    "n, bins, patches = plt.hist(article_lengths, bins=range(0, 500, 50), range=(0, 500))\n",
    "plt.xlabel('Article Lengths (0 to 500)')\n",
    "plt.ylabel('Article Count')\n",
    "plt.title('Histogram of Article Lengths in the NHK Dataset')\n",
    "plt.show()\n",
    "\n",
    "### From this, we can infer that the majority of articles lie in the 75-225 range.\n",
    "### I have a feeling shorter articles are more likely to fall in the \"Easy\" category\n",
    "### while longer articles are more \"Hard\". Let's plot another graph showing how each\n",
    "### category is distributed in terms of article length.\n",
    "\n",
    "easy_article_lengths = article_lengths[:easy_texts_size]\n",
    "hard_article_lengths = article_lengths[easy_texts_size:]\n",
    "\n",
    "n, bins, patches = plt.hist(easy_article_lengths, bins=range(0, 2100, 50), range=(0, 2100), color=\"g\")\n",
    "plt.xlabel('Article Lengths (0 to 2100)')\n",
    "plt.ylabel('Article Count')\n",
    "plt.title(f\"Histogram of {easy_texts_size} EASY Article Lengths in the NHK Dataset\")\n",
    "plt.show()\n",
    "\n",
    "n, bins, patches = plt.hist(hard_article_lengths, bins=range(0, 2100, 50), range=(0, 2100), color=\"r\")\n",
    "plt.xlabel('Article Lengths (0 to 2100)')\n",
    "plt.ylabel('Article Count')\n",
    "plt.title(f\"Histogram of {hard_texts_size} HARD Article Lengths in the NHK Dataset\")\n",
    "plt.show()\n",
    "\n",
    "\n",
    "\n",
    "        "
   ]
  },
  {
   "cell_type": "markdown",
   "metadata": {},
   "source": [
    "# Revise the dataset\n",
    "\n",
    "As you can see from the previous analysis, the dataset is skewed toward easy articles. This means we need to retain as many hard article samples. Since hard articles are generally longer in character count, we may be tempted to prune a portion of them so that our model can deal with fewer layers. However, since our goal is to keep as many hard article samples, I think a better solution would be to segment the articles into sentences. Therefore, we have to repeat the pipeline from the beginning:"
   ]
  },
  {
   "cell_type": "code",
   "execution_count": 194,
   "metadata": {},
   "outputs": [],
   "source": [
    "def segment_into_sentences(articles):\n",
    "    \n",
    "    # This character is essentially a period/full-stop i.e. \".\"\n",
    "    delimiter = \"。\"\n",
    "    \n",
    "    segmented = [] \n",
    "    for article in articles:\n",
    "        for segment in article.split(delimiter):\n",
    "            segmented.append(segment)\n",
    "            \n",
    "    return pd.Series(segmented)\n",
    "\n",
    "# NOTE: easy_news and hard_news are from the very first cell\n",
    "easy_texts = segment_into_sentences(easy_news['texts'])\n",
    "hard_texts = segment_into_sentences(hard_news['texts'])\n",
    "\n",
    "\n",
    "####### NOTE: The following is reproduced code up until the padding stage ######\n",
    "\n",
    "easy_texts_size = len(easy_texts)\n",
    "hard_texts_size = len(hard_texts)\n",
    "\n",
    "# Each category is a one-hot vector\n",
    "EASY = 0\n",
    "HARD = 1\n",
    "easy_targets = pd.Series(easy_texts_size * [EASY])\n",
    "hard_targets = pd.Series(hard_texts_size * [HARD])\n",
    "\n",
    "# Merge the dataset\n",
    "# NOTE: ignore_index is used to allow index continuity \n",
    "X = pd.concat([easy_texts,   hard_texts],   ignore_index=True)\n",
    "y = pd.concat([easy_targets, hard_targets], ignore_index=True)\n",
    "\n",
    "# Tokenize\n",
    "X = X.apply(tokenize)\n",
    "\n",
    "# Embeddings\n",
    "X = X.apply(substitute_for_embeddings)\n"
   ]
  },
  {
   "cell_type": "markdown",
   "metadata": {},
   "source": [
    "# Step 3. Analyse dataset imbalance (Continuation)"
   ]
  },
  {
   "cell_type": "code",
   "execution_count": 181,
   "metadata": {},
   "outputs": [
    {
     "data": {
      "image/png": "[encoded data removed]",
      "text/plain": [
       "<Figure size 432x288 with 1 Axes>"
      ]
     },
     "metadata": {
      "needs_background": "light"
     },
     "output_type": "display_data"
    },
    {
     "data": {
      "image/png": "[encoded data removed]",
      "text/plain": [
       "<Figure size 432x288 with 1 Axes>"
      ]
     },
     "metadata": {
      "needs_background": "light"
     },
     "output_type": "display_data"
    },
    {
     "data": {
      "image/png": "[encoded data removed]",
      "text/plain": [
       "<Figure size 432x288 with 1 Axes>"
      ]
     },
     "metadata": {
      "needs_background": "light"
     },
     "output_type": "display_data"
    }
   ],
   "source": [
    "### Here, we repeat the data analysis to see the effect of segmenting text\n",
    "\n",
    "### Finding out the range of sentence lengths\n",
    "### It turns out the min. length is 0, and the max. length is 108\n",
    "sentence_lengths = [ len(article) for article in X ]\n",
    "# print(min(sentence_lengths))\n",
    "# print(max(sentence_lengths))\n",
    "\n",
    "### Here is a cursory glance at a histogram modelling the collection of sentence lengths\n",
    "n, bins, patches = plt.hist(sentence_lengths, bins=range(0, 110, 5), range=(0, 110))\n",
    "plt.xlabel('Sentence Lengths (0 to 110)')\n",
    "plt.ylabel('Sentence Count')\n",
    "plt.title('Histogram of Sentence Lengths in the NHK Dataset')\n",
    "plt.show()\n",
    "\n",
    "### Here is a comparison of the distribution of EASY sentences versus HARD sentences\n",
    "\n",
    "easy_sentence_lengths = sentence_lengths[:easy_texts_size]\n",
    "hard_sentence_lengths = sentence_lengths[easy_texts_size:]\n",
    "\n",
    "n, bins, patches = plt.hist(easy_sentence_lengths, bins=range(0, 110, 5), range=(0, 110), color=\"g\")\n",
    "plt.xlabel('Sentence Lengths (0 to 110)')\n",
    "plt.ylabel('Sentence Count')\n",
    "plt.title(f\"Histogram of {easy_texts_size} EASY Sentence Lengths in the NHK Dataset\")\n",
    "plt.show()\n",
    "\n",
    "n, bins, patches = plt.hist(hard_sentence_lengths, bins=range(0, 110, 5), range=(0, 110), color=\"r\")\n",
    "plt.xlabel('Sentence Lengths (0 to 110)')\n",
    "plt.ylabel('Sentence Count')\n",
    "plt.title(f\"Histogram of {hard_texts_size} HARD Sentence Lengths in the NHK Dataset\")\n",
    "plt.show()\n"
   ]
  },
  {
   "cell_type": "markdown",
   "metadata": {},
   "source": [
    "## Analysis\n",
    "It seems like the segmentation has somewhat improved the imbalance in the dataset but not completely. I am apprehensive to do any further segmentation since the maximum sentence length  is currently at 108, which is by NLP standards quite resonable. The eventual sequential model would be 100 or so cells long. \n",
    "\n",
    "As a side note, further down the road I would like to perform unsupervised learning techniques in an attempt to \"decompose\" the easy and hard categories into sub-categories. This resembles modern language proficiency level grading systems e.g. the JLPT (Japanese language proficiency test) grades are based on 5 levels - N1 through to N5. Is it possible to come up with a new grading system based on machine learning, as opposed to whatever criteria is being used at the moment?"
   ]
  },
  {
   "cell_type": "markdown",
   "metadata": {},
   "source": [
    "# Step 4. Define the classifier"
   ]
  },
  {
   "cell_type": "code",
   "execution_count": 203,
   "metadata": {},
   "outputs": [],
   "source": [
    "import torch.nn as nn\n",
    "import torch.nn.functional as F\n",
    "import torch.optim as optim\n",
    "\n",
    "import sys\n",
    "\n",
    "## Static paramaters\n",
    "num_input_units = 300 # i.e. how many elements in the input vec\n",
    "num_classes = 2       # i.e. easy and hard\n",
    "\n",
    "## Hyper-paramters for tuning\n",
    "num_hidden_units = 128\n",
    "mini_batch_size  = 128\n",
    "num_train_epochs = 10_000\n",
    "learning_rate = 0.001\n",
    "\n",
    "\n",
    "class RNN(nn.Module):\n",
    "    \n",
    "    def __init__(self, input_size, hidden_size, output_size):\n",
    "        super(RNN, self).__init__()\n",
    "\n",
    "        self.hidden_size = hidden_size\n",
    "        self.concat_size = input_size + hidden_size\n",
    "            \n",
    "        self.i2h = nn.Linear(self.concat_size, hidden_size)\n",
    "        self.i2o = nn.Linear(self.concat_size, output_size)\n",
    "        self.softmax = nn.LogSoftmax(dim=1)\n",
    "\n",
    "    def forward(self, input, hidden):\n",
    "        try:\n",
    "            combined = torch.cat((input, hidden), 1)\n",
    "        except:\n",
    "            print(f\"{sys.exc_info()[0]}\")\n",
    "            print(input)\n",
    "            print(hidden)\n",
    "        hidden = self.i2h(combined)\n",
    "        output = self.i2o(combined)\n",
    "        output = self.softmax(output)\n",
    "        return output, hidden\n",
    "\n",
    "    def initHidden(self):\n",
    "        return torch.zeros(1, self.hidden_size)\n",
    "\n",
    "rnn = RNN(num_input_units, num_hidden_units, num_classes)\n",
    "criterion = nn.CrossEntropyLoss()\n",
    "# optimizer = optim.SGD(rnn.parameters(), lr=0.001, momentum=0.9)"
   ]
  },
  {
   "cell_type": "code",
   "execution_count": 204,
   "metadata": {},
   "outputs": [],
   "source": [
    "from random import sample\n",
    "import sys\n",
    "\n",
    "def train(sentence_tensor, category_tensor):\n",
    "    \n",
    "    hidden = rnn.initHidden()\n",
    "\n",
    "    rnn.zero_grad()\n",
    "\n",
    "    for token_idx in range(sentence_tensor.size()[0]): # NOTE: Assuming batch_first = True\n",
    "        rnn_input = sentence_tensor[token_idx].view([1, -1])\n",
    "        output, hidden = rnn(rnn_input, hidden)\n",
    "\n",
    "    loss = criterion(output, category_tensor)\n",
    "    loss.backward()\n",
    "\n",
    "    # Add parameters' gradients to their values, multiplied by learning rate\n",
    "    for p in rnn.parameters():\n",
    "        p.data.add_(-learning_rate, p.grad.data)\n",
    "\n",
    "    return output, loss.item()\n",
    "\n",
    "\n",
    "def get_next_batch(X, y):\n",
    "    mini_batch_X = []\n",
    "    mini_batch_y = []\n",
    "    for batch in range(mini_batch_size):\n",
    "        next_batch_item_index = np.random.randint(0, len(X))\n",
    "        mini_batch_X.append(X[next_batch_item_index])\n",
    "        mini_batch_y.append(y[next_batch_item_index])\n",
    "    return mini_batch_X, mini_batch_y\n",
    "\n"
   ]
  },
  {
   "cell_type": "code",
   "execution_count": 206,
   "metadata": {},
   "outputs": [
    {
     "name": "stdout",
     "output_type": "stream",
     "text": [
      "99 epochs\n",
      "199 epochs\n",
      "299 epochs\n",
      "399 epochs\n",
      "499 epochs\n",
      "599 epochs\n",
      "699 epochs\n",
      "799 epochs\n",
      "899 epochs\n",
      "999 epochs\n",
      "1099 epochs\n",
      "1199 epochs\n",
      "1299 epochs\n",
      "1399 epochs\n",
      "1499 epochs\n",
      "1599 epochs\n",
      "1699 epochs\n",
      "1799 epochs\n",
      "1899 epochs\n",
      "1999 epochs\n",
      "2099 epochs\n",
      "2199 epochs\n",
      "2299 epochs\n",
      "2399 epochs\n",
      "2499 epochs\n",
      "2599 epochs\n",
      "2699 epochs\n",
      "2799 epochs\n",
      "2899 epochs\n",
      "2999 epochs\n",
      "3099 epochs\n",
      "3199 epochs\n",
      "3299 epochs\n",
      "3399 epochs\n",
      "3499 epochs\n",
      "3599 epochs\n",
      "3699 epochs\n",
      "3799 epochs\n",
      "3899 epochs\n",
      "3999 epochs\n",
      "4099 epochs\n",
      "4199 epochs\n",
      "4299 epochs\n",
      "4399 epochs\n",
      "4499 epochs\n",
      "4599 epochs\n",
      "4699 epochs\n",
      "4799 epochs\n",
      "4899 epochs\n",
      "4999 epochs\n",
      "5099 epochs\n",
      "5199 epochs\n",
      "5299 epochs\n",
      "5399 epochs\n",
      "5499 epochs\n",
      "5599 epochs\n",
      "5699 epochs\n",
      "5799 epochs\n",
      "5899 epochs\n",
      "5999 epochs\n",
      "6099 epochs\n",
      "6199 epochs\n",
      "6299 epochs\n",
      "6399 epochs\n",
      "6499 epochs\n",
      "6599 epochs\n",
      "6699 epochs\n",
      "6799 epochs\n",
      "6899 epochs\n",
      "6999 epochs\n",
      "7099 epochs\n",
      "7199 epochs\n",
      "7299 epochs\n",
      "7399 epochs\n",
      "7499 epochs\n",
      "7599 epochs\n",
      "7699 epochs\n",
      "7799 epochs\n",
      "7899 epochs\n",
      "7999 epochs\n",
      "8099 epochs\n",
      "8199 epochs\n",
      "8299 epochs\n",
      "8399 epochs\n",
      "8499 epochs\n",
      "8599 epochs\n",
      "8699 epochs\n",
      "8799 epochs\n",
      "8899 epochs\n",
      "8999 epochs\n",
      "9099 epochs\n",
      "9199 epochs\n",
      "9299 epochs\n",
      "9399 epochs\n",
      "9499 epochs\n",
      "9599 epochs\n",
      "9699 epochs\n",
      "9799 epochs\n",
      "9899 epochs\n",
      "9999 epochs\n",
      "runtime: 5880.886444807053 seconds\n"
     ]
    }
   ],
   "source": [
    "import time\n",
    "\n",
    "# Omit empty sentences\n",
    "non_empty_indices = [idx for idx, sentence in enumerate(X) if len(sentence) > 0]\n",
    "X = pd.Series([X[idx] for idx in non_empty_indices])\n",
    "y = pd.Series([y[idx] for idx in non_empty_indices])\n",
    "\n",
    "X_tensors = [ torch.tensor(sentence) for sentence in X ]\n",
    "y_tensors = [ torch.tensor([category], dtype=torch.long) for category in y ]\n",
    "\n",
    "current_loss = 0\n",
    "all_losses = []\n",
    "plot_every = 100\n",
    "\n",
    "import time\n",
    "time_start = time.time()\n",
    "\n",
    "for epoch in range(num_train_epochs):\n",
    "\n",
    "    mini_batch_X, mini_batch_y = get_next_batch(X_tensors, y_tensors)\n",
    "    for idx in range(len(mini_batch_X)):\n",
    "        # extract the next sentence\n",
    "        sentence_tensor = mini_batch_X[idx]\n",
    "        # extract the next class\n",
    "        category_tensor = mini_batch_y[idx]\n",
    "        # pass the class and sentence into the train function\n",
    "        output, loss = train(sentence_tensor, category_tensor)\n",
    "        # accummulate the loss\n",
    "        current_loss += loss\n",
    "\n",
    "    if (epoch + 1) % plot_every == 0 and epoch != 0:\n",
    "        print(f\"{epoch} epochs\")\n",
    "        all_losses.append(current_loss / plot_every)\n",
    "        current_loss = 0\n",
    "\n",
    "print(f\"runtime: {time.time() - time_start} seconds\")"
   ]
  },
  {
   "cell_type": "code",
   "execution_count": 207,
   "metadata": {},
   "outputs": [
    {
     "data": {
      "text/plain": [
       "[<matplotlib.lines.Line2D at 0x1355e54a8>]"
      ]
     },
     "execution_count": 207,
     "metadata": {},
     "output_type": "execute_result"
    },
    {
     "data": {
      "image/png": "[encoded data removed]",
      "text/plain": [
       "<Figure size 432x288 with 1 Axes>"
      ]
     },
     "metadata": {
      "needs_background": "light"
     },
     "output_type": "display_data"
    }
   ],
   "source": [
    "# Step 3. Split the dataset into a training and validation set\n",
    "# from sklearn.model_selection import train_test_split\n",
    "# train_X, train_y, val_X, val_y = train_test_split(X, y, test_size=0.2, random_state=1)\n",
    "import matplotlib.pyplot as plt\n",
    "import matplotlib.ticker as ticker\n",
    "\n",
    "plt.figure()\n",
    "plt.plot(all_losses)"
   ]
  },
  {
   "cell_type": "markdown",
   "metadata": {},
   "source": [
    "### Loss Analysis\n",
    "\n",
    "The above plot has the indices (representing every 200 epochs) of the all_losses list on the x-axis and the loss value on the y-axis. It would be optimistic to say there is some training improvement due to a slight decrease seen in the minimum loss. Overall, the model appears unstable and I may have a couple of good reasons why, based on intuition.\n",
    "\n",
    "#### Theory 1) Word embeddings\n",
    "Word embeddings are built to capture semantic similarity. So if the same word appears in both EASY and HARD sentences then it confuses the model, which could lead to instability. I would have to try and run a Jaccard similarity test on the vocabulary of all EASY sentences versus HARD sentences to see the overlap of words in both corpora. I think it may be quite substantial because the dataset being used contains pairings of authentic news articles on the NHK website, as well as their corresponding \"easy\" articles published on NHK News Web Easy. So if the word embeddings are at fault, then we'll need a different way of representation.\n",
    "\n",
    "#### Theory 2) Sentence segmentation\n",
    "I originally made the decision to segment articles into sentences because, based on past experience using PyTorch, I thought you had to inject padding into all your inputs of varying length. I now realise that this technique is only ever useful when working with bidirectional sequential models. I had only ever worked with bidirectional models in PyTorch and so I was led to believe padding was the norm. So, I was apprehensive to inject padding into shorter articles just to avoid having to throw away some of the much longer HARD articles. My initial solution was to segment them into sentences but just because an sentence was written in an article does not necessarily mean it inherits its article's class. Therefore, I will try this again except without segmentation.\n"
   ]
  },
  {
   "cell_type": "code",
   "execution_count": null,
   "metadata": {},
   "outputs": [],
   "source": []
  }
 ],
 "metadata": {
  "kernelspec": {
   "display_name": "nhk_venv",
   "language": "python",
   "name": "nhk_venv"
  },
  "language_info": {
   "codemirror_mode": {
    "name": "ipython",
    "version": 3
   },
   "file_extension": ".py",
   "mimetype": "text/x-python",
   "name": "python",
   "nbconvert_exporter": "python",
   "pygments_lexer": "ipython3",
   "version": "3.7.2"
  }
 },
 "nbformat": 4,
 "nbformat_minor": 2
}
