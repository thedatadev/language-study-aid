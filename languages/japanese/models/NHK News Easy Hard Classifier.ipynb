{
 "cells": [
  {
   "cell_type": "markdown",
   "metadata": {},
   "source": [
    "# NHK News Easy Hard Classifier\n",
    "\n",
    "## Description\n",
    "This model aims to classify a given input text in Japanese into one of two reading comprehension difficulty levels: easy or hard.\n",
    "\n",
    "TODO:\n",
    "- describe the dataset used\n",
    "- describe the transformation pipeline\n",
    "- describe the training methodology\n",
    "- describe the deployment strategy\n",
    "- conclude with interesting observations"
   ]
  },
  {
   "cell_type": "code",
   "execution_count": 1,
   "metadata": {},
   "outputs": [],
   "source": [
    "# Step 1. Load the dataset and annotate the training data\n",
    "import pandas as pd\n",
    "\n",
    "easy_news = pd.read_csv(\"../resources/nhk_news/easy_articles.csv\")\n",
    "hard_news = pd.read_csv(\"../resources/nhk_news/hard_articles.csv\")\n",
    "\n",
    "easy_texts = easy_news['texts']\n",
    "hard_texts = hard_news['texts']\n",
    "\n",
    "EASY = 1\n",
    "HARD = -1\n",
    "easy_targets = pd.Series(len(easy_texts) * [EASY])\n",
    "hard_targets = pd.Series(len(hard_texts) * [HARD])\n",
    "\n",
    "X = pd.concat([easy_texts,   hard_texts],   ignore_index=True)\n",
    "y = pd.concat([easy_targets, hard_targets], ignore_index=True)"
   ]
  },
  {
   "cell_type": "code",
   "execution_count": 5,
   "metadata": {},
   "outputs": [],
   "source": [
    "# Step 2. Replace each word with its embedding\n",
    "# TODO:\n",
    "# - Tokenize\n",
    "# - Get embedding for each word\n",
    "# - Pad each text"
   ]
  },
  {
   "cell_type": "code",
   "execution_count": null,
   "metadata": {},
   "outputs": [],
   "source": [
    "# Step 3. Split the dataset into a training and validation set\n",
    "from sklearn.model_selection import train_test_split\n",
    "\n",
    "train_X, train_y, val_X, val_y = train_test_split(X, y, test_size=0.2, random_state=1)"
   ]
  }
 ],
 "metadata": {
  "kernelspec": {
   "display_name": "nhk_venv",
   "language": "python",
   "name": "nhk_venv"
  },
  "language_info": {
   "codemirror_mode": {
    "name": "ipython",
    "version": 3
   },
   "file_extension": ".py",
   "mimetype": "text/x-python",
   "name": "python",
   "nbconvert_exporter": "python",
   "pygments_lexer": "ipython3",
   "version": "3.7.2"
  }
 },
 "nbformat": 4,
 "nbformat_minor": 2
}
