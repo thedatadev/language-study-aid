{
 "cells": [
  {
   "cell_type": "markdown",
   "metadata": {},
   "source": [
    "# NHK Easy Hard Classifier Pipeline "
   ]
  },
  {
   "cell_type": "code",
   "execution_count": 1,
   "metadata": {},
   "outputs": [],
   "source": [
    "# 1. Load the data\n",
    "from data.loader import load_NHK_dataset\n",
    "X, y = load_NHK_dataset()"
   ]
  },
  {
   "cell_type": "code",
   "execution_count": 2,
   "metadata": {},
   "outputs": [],
   "source": [
    "# 2. Transform the dataset\n",
    "from preprocessing.transformer import transform_dataset\n",
    "X, y = transform_dataset(X, y)"
   ]
  },
  {
   "cell_type": "code",
   "execution_count": 3,
   "metadata": {},
   "outputs": [],
   "source": [
    "# 3. Build the model\n",
    "from training.model import RNN\n",
    "rnn = RNN()"
   ]
  },
  {
   "cell_type": "code",
   "execution_count": 4,
   "metadata": {},
   "outputs": [
    {
     "name": "stdout",
     "output_type": "stream",
     "text": [
      "Current model has highest training accuracy of 75.0\n",
      "100 epochs\t0.5350917505472899 loss\t75.0% train acc\n",
      "Current model has highest training accuracy of 87.0\n",
      "200 epochs\t0.4239791145920753 loss\t87.0% train acc\n",
      "300 epochs\t0.5234418062865734 loss\t82.0% train acc\n",
      "400 epochs\t0.47337137393653395 loss\t85.0% train acc\n",
      "500 epochs\t0.4376960567012429 loss\t85.0% train acc\n",
      "600 epochs\t0.5175265211611986 loss\t80.0% train acc\n",
      "700 epochs\t0.5180051670596003 loss\t79.0% train acc\n",
      "800 epochs\t0.562660654708743 loss\t77.0% train acc\n",
      "900 epochs\t0.4799096594750881 loss\t83.0% train acc\n",
      "Current model has highest training accuracy of 90.0\n",
      "1000 epochs\t0.32883536726236345 loss\t90.0% train acc\n",
      "runtime: 49.432400941848755 seconds\n"
     ]
    }
   ],
   "source": [
    "# 4. Train the model\n",
    "from training.train import train\n",
    "losses = train(rnn, X, y)"
   ]
  },
  {
   "cell_type": "code",
   "execution_count": 9,
   "metadata": {},
   "outputs": [],
   "source": [
    "# 5. Report the losses\n",
    "from training.loss import report\n",
    "# report(losses)"
   ]
  },
  {
   "cell_type": "code",
   "execution_count": null,
   "metadata": {},
   "outputs": [],
   "source": []
  }
 ],
 "metadata": {
  "kernelspec": {
   "display_name": "nhk_venv",
   "language": "python",
   "name": "nhk_venv"
  },
  "language_info": {
   "codemirror_mode": {
    "name": "ipython",
    "version": 3
   },
   "file_extension": ".py",
   "mimetype": "text/x-python",
   "name": "python",
   "nbconvert_exporter": "python",
   "pygments_lexer": "ipython3",
   "version": "3.7.2"
  }
 },
 "nbformat": 4,
 "nbformat_minor": 2
}
